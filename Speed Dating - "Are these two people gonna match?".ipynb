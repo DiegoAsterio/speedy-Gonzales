{
 "cells": [
  {
   "cell_type": "markdown",
   "metadata": {},
   "source": [
    "\"Speed Dating\" data analysis\n",
    "-----\n",
    "My first aim is to approach the data on a non-supervised way so we'll start with some plots."
   ]
  },
  {
   "cell_type": "code",
   "execution_count": 1,
   "metadata": {
    "collapsed": true
   },
   "outputs": [],
   "source": [
    "import numpy as np\n",
    "import pandas as pd"
   ]
  },
  {
   "cell_type": "code",
   "execution_count": 11,
   "metadata": {
    "collapsed": false
   },
   "outputs": [
    {
     "data": {
      "text/plain": [
       "iid           int64\n",
       "id          float64\n",
       "gender        int64\n",
       "idg           int64\n",
       "condtn        int64\n",
       "wave          int64\n",
       "round         int64\n",
       "position      int64\n",
       "positin1    float64\n",
       "order         int64\n",
       "partner       int64\n",
       "pid         float64\n",
       "match         int64\n",
       "int_corr    float64\n",
       "samerace      int64\n",
       "age_o       float64\n",
       "race_o      float64\n",
       "pf_o_att    float64\n",
       "pf_o_sin    float64\n",
       "pf_o_int    float64\n",
       "pf_o_fun    float64\n",
       "pf_o_amb    float64\n",
       "pf_o_sha    float64\n",
       "dec_o         int64\n",
       "attr_o      float64\n",
       "sinc_o      float64\n",
       "intel_o     float64\n",
       "fun_o       float64\n",
       "amb_o       float64\n",
       "shar_o      float64\n",
       "             ...   \n",
       "amb1_3      float64\n",
       "shar1_3     float64\n",
       "attr7_3     float64\n",
       "sinc7_3     float64\n",
       "intel7_3    float64\n",
       "fun7_3      float64\n",
       "amb7_3      float64\n",
       "shar7_3     float64\n",
       "attr4_3     float64\n",
       "sinc4_3     float64\n",
       "intel4_3    float64\n",
       "fun4_3      float64\n",
       "amb4_3      float64\n",
       "shar4_3     float64\n",
       "attr2_3     float64\n",
       "sinc2_3     float64\n",
       "intel2_3    float64\n",
       "fun2_3      float64\n",
       "amb2_3      float64\n",
       "shar2_3     float64\n",
       "attr3_3     float64\n",
       "sinc3_3     float64\n",
       "intel3_3    float64\n",
       "fun3_3      float64\n",
       "amb3_3      float64\n",
       "attr5_3     float64\n",
       "sinc5_3     float64\n",
       "intel5_3    float64\n",
       "fun5_3      float64\n",
       "amb5_3      float64\n",
       "dtype: object"
      ]
     },
     "execution_count": 11,
     "metadata": {},
     "output_type": "execute_result"
    }
   ],
   "source": [
    "speedDatingDF = pd.read_csv(\"Speed Dating Data.csv\",encoding = \"ISO-8859-1\")\n",
    "speedDatingDF.dtypes"
   ]
  },
  {
   "cell_type": "markdown",
   "metadata": {},
   "source": [
    "I have way too much characteristics so now I must find a way to break through all this data into some conclusion. The question we want to answer is:\n",
    "\n",
    "\"Are these two people going to match?\""
   ]
  },
  {
   "cell_type": "code",
   "execution_count": 13,
   "metadata": {
    "collapsed": false
   },
   "outputs": [
    {
     "data": {
      "text/plain": [
       "<bound method GroupBy.mean of <pandas.core.groupby.DataFrameGroupBy object at 0x1065d5f60>>"
      ]
     },
     "execution_count": 13,
     "metadata": {},
     "output_type": "execute_result"
    }
   ],
   "source": [
    "speedDatingDF.groupby('wave')"
   ]
  },
  {
   "cell_type": "code",
   "execution_count": null,
   "metadata": {
    "collapsed": true
   },
   "outputs": [],
   "source": []
  }
 ],
 "metadata": {
  "anaconda-cloud": {},
  "kernelspec": {
   "display_name": "Python [conda root]",
   "language": "python",
   "name": "conda-root-py"
  },
  "language_info": {
   "codemirror_mode": {
    "name": "ipython",
    "version": 3
   },
   "file_extension": ".py",
   "mimetype": "text/x-python",
   "name": "python",
   "nbconvert_exporter": "python",
   "pygments_lexer": "ipython3",
   "version": "3.5.2"
  }
 },
 "nbformat": 4,
 "nbformat_minor": 1
}
