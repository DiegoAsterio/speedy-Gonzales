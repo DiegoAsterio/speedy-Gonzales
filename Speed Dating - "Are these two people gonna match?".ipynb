{
 "cells": [
  {
   "cell_type": "code",
   "execution_count": 2,
   "metadata": {
    "collapsed": true
   },
   "outputs": [],
   "source": [
    "import numpy as np\n",
    "import pandas as pd"
   ]
  },
  {
   "cell_type": "markdown",
   "metadata": {},
   "source": [
    "# Introduction\n"
   ]
  },
  {
   "cell_type": "markdown",
   "metadata": {},
   "source": [
    "In the last few years speed dating popularity has grown quickly. Despite its popularity lots of people don't seem as satisfied as they'd like. Most users don't end up finding what they were looking for. That's why a crew of data scientists is going to study data on previous speed dating events in order to make it easier for our users to find their other halves.\n",
    "\n",
    "**Disclaimer:** Most of the data has been recorded from heterosexual encounters this makes it difficult to inferentiate the data into our system. *(New Speed Dating events are more plural taking into account all sexs and genders)*"
   ]
  },
  {
   "cell_type": "markdown",
   "metadata": {},
   "source": [
    "# What are we looking for?\n",
    "\n",
    "### Finding questions"
   ]
  },
  {
   "cell_type": "markdown",
   "metadata": {},
   "source": [
    "The first thing we have to do is ask ourselfs what conclusions we hope this study leads to. In other words finding the questions this project is going to answer to.\n",
    "\n",
    "First of all we want to maximize the likelyhood two people fall in love.\n",
    "\n",
    ">**\"Are these two people going to match?\"** - *(After selecting two people from a new wave)*\n",
    "\n",
    "Also for those who were refused we want them classified in a group within all the users. The sooner someone is included into a group of users, the better affinity it will have with those in the same group.\n",
    "\n",
    ">**\"Which group this person belongs to?\"**\n",
    "\n",
    "We don't want any negative encounter. So it may be useful not to let into the Speed Dating any individual which is going to have a negative influence on the event.\n",
    "\n",
    ">**\"Is this person suitable for todays event?\"**\n"
   ]
  },
  {
   "cell_type": "markdown",
   "metadata": {},
   "source": [
    "\"Speed Dating\" data tidying\n",
    "-----\n",
    "The first thing to do is fix possible errors so that it is easier to approach the solution."
   ]
  },
  {
   "cell_type": "code",
   "execution_count": 30,
   "metadata": {
    "collapsed": false
   },
   "outputs": [
    {
     "data": {
      "text/plain": [
       "iid           int64\n",
       "id          float64\n",
       "gender        int64\n",
       "idg           int64\n",
       "condtn        int64\n",
       "wave          int64\n",
       "round         int64\n",
       "position      int64\n",
       "positin1    float64\n",
       "order         int64\n",
       "partner       int64\n",
       "pid         float64\n",
       "match         int64\n",
       "int_corr    float64\n",
       "samerace      int64\n",
       "age_o       float64\n",
       "race_o      float64\n",
       "pf_o_att    float64\n",
       "pf_o_sin    float64\n",
       "pf_o_int    float64\n",
       "pf_o_fun    float64\n",
       "pf_o_amb    float64\n",
       "pf_o_sha    float64\n",
       "dec_o         int64\n",
       "attr_o      float64\n",
       "sinc_o      float64\n",
       "intel_o     float64\n",
       "fun_o       float64\n",
       "amb_o       float64\n",
       "shar_o      float64\n",
       "             ...   \n",
       "amb1_3      float64\n",
       "shar1_3     float64\n",
       "attr7_3     float64\n",
       "sinc7_3     float64\n",
       "intel7_3    float64\n",
       "fun7_3      float64\n",
       "amb7_3      float64\n",
       "shar7_3     float64\n",
       "attr4_3     float64\n",
       "sinc4_3     float64\n",
       "intel4_3    float64\n",
       "fun4_3      float64\n",
       "amb4_3      float64\n",
       "shar4_3     float64\n",
       "attr2_3     float64\n",
       "sinc2_3     float64\n",
       "intel2_3    float64\n",
       "fun2_3      float64\n",
       "amb2_3      float64\n",
       "shar2_3     float64\n",
       "attr3_3     float64\n",
       "sinc3_3     float64\n",
       "intel3_3    float64\n",
       "fun3_3      float64\n",
       "amb3_3      float64\n",
       "attr5_3     float64\n",
       "sinc5_3     float64\n",
       "intel5_3    float64\n",
       "fun5_3      float64\n",
       "amb5_3      float64\n",
       "dtype: object"
      ]
     },
     "execution_count": 30,
     "metadata": {},
     "output_type": "execute_result"
    }
   ],
   "source": [
    "speedDatingDF = pd.read_csv(\"Speed Dating Data.csv\",encoding = \"ISO-8859-1\")\n",
    "speedDatingDF.dtypes"
   ]
  },
  {
   "cell_type": "markdown",
   "metadata": {},
   "source": [
    "Every variable is described in the piece of writing called ***\"Speed Dating Data.doc\"*** which is in the same directory as this notebook.\n",
    "\n",
    "And in cases such as gender or race we can see using numbers is not the best choice. That's why we are going to modify those variables which are not countable."
   ]
  },
  {
   "cell_type": "code",
   "execution_count": 31,
   "metadata": {
    "collapsed": true
   },
   "outputs": [],
   "source": [
    "speedDatingDF.loc[speedDatingDF['gender'] == 0, 'gender'] = \"Female\"\n",
    "speedDatingDF.loc[speedDatingDF['gender'] == 1, 'gender'] = \"Male\""
   ]
  },
  {
   "cell_type": "code",
   "execution_count": 32,
   "metadata": {
    "collapsed": true
   },
   "outputs": [],
   "source": [
    "speedDatingDF.loc[speedDatingDF['condtn'] == 1, 'condtn'] = \"Limited\"\n",
    "speedDatingDF.loc[speedDatingDF['condtn'] == 2, 'condtn'] = \"Extensive\""
   ]
  },
  {
   "cell_type": "code",
   "execution_count": 33,
   "metadata": {
    "collapsed": true
   },
   "outputs": [],
   "source": [
    "speedDatingDF.loc[speedDatingDF['match'] == 0, 'match'] = False\n",
    "speedDatingDF.loc[speedDatingDF['match'] == 1, 'match'] = True"
   ]
  },
  {
   "cell_type": "code",
   "execution_count": 34,
   "metadata": {
    "collapsed": true
   },
   "outputs": [],
   "source": [
    "speedDatingDF.loc[speedDatingDF['samerace'] == 0, 'samerace'] = False\n",
    "speedDatingDF.loc[speedDatingDF['samerace'] == 1, 'samerace'] = True"
   ]
  },
  {
   "cell_type": "code",
   "execution_count": 51,
   "metadata": {
    "collapsed": true
   },
   "outputs": [],
   "source": [
    "speedDatingDF.loc[speedDatingDF['field_cd'] == 1, 'field_cd'] = \"Law\"\n",
    "speedDatingDF.loc[speedDatingDF['field_cd'] == 2, 'field_cd'] = \"Math\"\n",
    "speedDatingDF.loc[speedDatingDF['field_cd'] == 3, 'field_cd'] = \"Social Science/Psychologist\"\n",
    "speedDatingDF.loc[speedDatingDF['field_cd'] == 4, 'field_cd'] = \"Medical Science/Pharmaceuticals/Bio Tech\"\n",
    "speedDatingDF.loc[speedDatingDF['field_cd'] == 5, 'field_cd'] = \"Engineering\"\n",
    "speedDatingDF.loc[speedDatingDF['field_cd'] == 6, 'field_cd'] = \"English/Creative Writing/Journalism\"\n",
    "speedDatingDF.loc[speedDatingDF['field_cd'] == 7, 'field_cd'] = \"History/Religion/Philosophy\"\n",
    "speedDatingDF.loc[speedDatingDF['field_cd'] == 8, 'field_cd'] = \"Bussines/Econ/Finance\"\n",
    "speedDatingDF.loc[speedDatingDF['field_cd'] == 9, 'field_cd'] = \"Education/Academia\"\n",
    "speedDatingDF.loc[speedDatingDF['field_cd'] == 10, 'field_cd'] = \"Biological Sciences/Chemistry/Physics\"\n",
    "speedDatingDF.loc[speedDatingDF['field_cd'] == 11, 'field_cd'] = \"Social work\"\n",
    "speedDatingDF.loc[speedDatingDF['field_cd'] == 12, 'field_cd'] = \"Undergrad/undecided\"\n",
    "speedDatingDF.loc[speedDatingDF['field_cd'] == 13, 'field_cd'] = \"Political Science/International Affairs\"\n",
    "speedDatingDF.loc[speedDatingDF['field_cd'] == 14, 'field_cd'] = \"Film\"\n",
    "speedDatingDF.loc[speedDatingDF['field_cd'] == 15, 'field_cd'] = \"Fine Arts/Arts administration\"\n",
    "speedDatingDF.loc[speedDatingDF['field_cd'] == 16, 'field_cd'] = \"Languages\"\n",
    "speedDatingDF.loc[speedDatingDF['field_cd'] == 17, 'field_cd'] = \"Architecture\"\n",
    "speedDatingDF.loc[speedDatingDF['field_cd'] == 18, 'field_cd'] = \"Other\""
   ]
  },
  {
   "cell_type": "code",
   "execution_count": 52,
   "metadata": {
    "collapsed": true
   },
   "outputs": [],
   "source": [
    "speedDatingDF.loc[speedDatingDF['race'] == 1, 'race'] = \"Black/African American\"\n",
    "speedDatingDF.loc[speedDatingDF['race'] == 2, 'race'] = \"European/Caucassian-American\"\n",
    "speedDatingDF.loc[speedDatingDF['race'] == 3, 'race'] = \"Latino/Hispanic American\"\n",
    "speedDatingDF.loc[speedDatingDF['race'] == 4, 'race'] = \"Asian/Pacific Islander/Asian-American\"\n",
    "speedDatingDF.loc[speedDatingDF['race'] == 5, 'race'] = \"Native American\"\n",
    "speedDatingDF.loc[speedDatingDF['race'] == 6, 'race'] = \"Other\""
   ]
  },
  {
   "cell_type": "code",
   "execution_count": 48,
   "metadata": {
    "collapsed": true
   },
   "outputs": [],
   "source": [
    "speedDatingDF.loc[speedDatingDF['length'] == 1, 'length'] = \"Too little\"\n",
    "speedDatingDF.loc[speedDatingDF['length'] == 2, 'length'] = \"Too much\"\n",
    "speedDatingDF.loc[speedDatingDF['length'] == 3, 'length'] = \"Just right\""
   ]
  },
  {
   "cell_type": "code",
   "execution_count": 49,
   "metadata": {
    "collapsed": true
   },
   "outputs": [],
   "source": [
    "speedDatingDF.loc[speedDatingDF['numdat_2'] == 1, 'numdat_2'] = \"Too little\"\n",
    "speedDatingDF.loc[speedDatingDF['numdat_2'] == 2, 'numdat_2'] = \"Too much\"\n",
    "speedDatingDF.loc[speedDatingDF['numdat_2'] == 3, 'numdat_2'] = \"Just right\""
   ]
  },
  {
   "cell_type": "code",
   "execution_count": 41,
   "metadata": {
    "collapsed": true
   },
   "outputs": [],
   "source": [
    "speedDatingDF.loc[speedDatingDF['date_3'] == 0, 'date_3'] = True\n",
    "speedDatingDF.loc[speedDatingDF['date_3'] == 1, 'date_3'] = False"
   ]
  },
  {
   "cell_type": "code",
   "execution_count": 16,
   "metadata": {
    "collapsed": false
   },
   "outputs": [
    {
     "name": "stderr",
     "output_type": "stream",
     "text": [
      "/Users/Diario/anaconda/lib/python3.5/site-packages/numpy/lib/function_base.py:3834: RuntimeWarning: Invalid value encountered in percentile\n",
      "  RuntimeWarning)\n"
     ]
    },
    {
     "data": {
      "text/html": [
       "<div>\n",
       "<table border=\"1\" class=\"dataframe\">\n",
       "  <thead>\n",
       "    <tr style=\"text-align: right;\">\n",
       "      <th></th>\n",
       "      <th>iid</th>\n",
       "      <th>id</th>\n",
       "      <th>idg</th>\n",
       "      <th>condtn</th>\n",
       "      <th>wave</th>\n",
       "      <th>round</th>\n",
       "      <th>position</th>\n",
       "      <th>positin1</th>\n",
       "      <th>order</th>\n",
       "      <th>partner</th>\n",
       "      <th>...</th>\n",
       "      <th>attr3_3</th>\n",
       "      <th>sinc3_3</th>\n",
       "      <th>intel3_3</th>\n",
       "      <th>fun3_3</th>\n",
       "      <th>amb3_3</th>\n",
       "      <th>attr5_3</th>\n",
       "      <th>sinc5_3</th>\n",
       "      <th>intel5_3</th>\n",
       "      <th>fun5_3</th>\n",
       "      <th>amb5_3</th>\n",
       "    </tr>\n",
       "  </thead>\n",
       "  <tbody>\n",
       "    <tr>\n",
       "      <th>count</th>\n",
       "      <td>8378.000000</td>\n",
       "      <td>8377.000000</td>\n",
       "      <td>8378.000000</td>\n",
       "      <td>8378.000000</td>\n",
       "      <td>8378.000000</td>\n",
       "      <td>8378.000000</td>\n",
       "      <td>8378.000000</td>\n",
       "      <td>6532.000000</td>\n",
       "      <td>8378.000000</td>\n",
       "      <td>8378.000000</td>\n",
       "      <td>...</td>\n",
       "      <td>3974.000000</td>\n",
       "      <td>3974.000000</td>\n",
       "      <td>3974.000000</td>\n",
       "      <td>3974.000000</td>\n",
       "      <td>3974.000000</td>\n",
       "      <td>2016.000000</td>\n",
       "      <td>2016.000000</td>\n",
       "      <td>2016.000000</td>\n",
       "      <td>2016.000000</td>\n",
       "      <td>2016.000000</td>\n",
       "    </tr>\n",
       "    <tr>\n",
       "      <th>mean</th>\n",
       "      <td>283.675937</td>\n",
       "      <td>8.960248</td>\n",
       "      <td>17.327166</td>\n",
       "      <td>1.828837</td>\n",
       "      <td>11.350919</td>\n",
       "      <td>16.872046</td>\n",
       "      <td>9.042731</td>\n",
       "      <td>9.295775</td>\n",
       "      <td>8.927668</td>\n",
       "      <td>8.963595</td>\n",
       "      <td>...</td>\n",
       "      <td>7.240312</td>\n",
       "      <td>8.093357</td>\n",
       "      <td>8.388777</td>\n",
       "      <td>7.658782</td>\n",
       "      <td>7.391545</td>\n",
       "      <td>6.810020</td>\n",
       "      <td>7.615079</td>\n",
       "      <td>7.932540</td>\n",
       "      <td>7.155258</td>\n",
       "      <td>7.048611</td>\n",
       "    </tr>\n",
       "    <tr>\n",
       "      <th>std</th>\n",
       "      <td>158.583367</td>\n",
       "      <td>5.491329</td>\n",
       "      <td>10.940735</td>\n",
       "      <td>0.376673</td>\n",
       "      <td>5.995903</td>\n",
       "      <td>4.358458</td>\n",
       "      <td>5.514939</td>\n",
       "      <td>5.650199</td>\n",
       "      <td>5.477009</td>\n",
       "      <td>5.491068</td>\n",
       "      <td>...</td>\n",
       "      <td>1.576596</td>\n",
       "      <td>1.610309</td>\n",
       "      <td>1.459094</td>\n",
       "      <td>1.744670</td>\n",
       "      <td>1.961417</td>\n",
       "      <td>1.507341</td>\n",
       "      <td>1.504551</td>\n",
       "      <td>1.340868</td>\n",
       "      <td>1.672787</td>\n",
       "      <td>1.717988</td>\n",
       "    </tr>\n",
       "    <tr>\n",
       "      <th>min</th>\n",
       "      <td>1.000000</td>\n",
       "      <td>1.000000</td>\n",
       "      <td>1.000000</td>\n",
       "      <td>1.000000</td>\n",
       "      <td>1.000000</td>\n",
       "      <td>5.000000</td>\n",
       "      <td>1.000000</td>\n",
       "      <td>1.000000</td>\n",
       "      <td>1.000000</td>\n",
       "      <td>1.000000</td>\n",
       "      <td>...</td>\n",
       "      <td>2.000000</td>\n",
       "      <td>2.000000</td>\n",
       "      <td>3.000000</td>\n",
       "      <td>2.000000</td>\n",
       "      <td>1.000000</td>\n",
       "      <td>2.000000</td>\n",
       "      <td>2.000000</td>\n",
       "      <td>4.000000</td>\n",
       "      <td>1.000000</td>\n",
       "      <td>1.000000</td>\n",
       "    </tr>\n",
       "    <tr>\n",
       "      <th>25%</th>\n",
       "      <td>154.000000</td>\n",
       "      <td>NaN</td>\n",
       "      <td>8.000000</td>\n",
       "      <td>2.000000</td>\n",
       "      <td>7.000000</td>\n",
       "      <td>14.000000</td>\n",
       "      <td>4.000000</td>\n",
       "      <td>NaN</td>\n",
       "      <td>4.000000</td>\n",
       "      <td>4.000000</td>\n",
       "      <td>...</td>\n",
       "      <td>NaN</td>\n",
       "      <td>NaN</td>\n",
       "      <td>NaN</td>\n",
       "      <td>NaN</td>\n",
       "      <td>NaN</td>\n",
       "      <td>NaN</td>\n",
       "      <td>NaN</td>\n",
       "      <td>NaN</td>\n",
       "      <td>NaN</td>\n",
       "      <td>NaN</td>\n",
       "    </tr>\n",
       "    <tr>\n",
       "      <th>50%</th>\n",
       "      <td>281.000000</td>\n",
       "      <td>NaN</td>\n",
       "      <td>16.000000</td>\n",
       "      <td>2.000000</td>\n",
       "      <td>11.000000</td>\n",
       "      <td>18.000000</td>\n",
       "      <td>8.000000</td>\n",
       "      <td>NaN</td>\n",
       "      <td>8.000000</td>\n",
       "      <td>8.000000</td>\n",
       "      <td>...</td>\n",
       "      <td>NaN</td>\n",
       "      <td>NaN</td>\n",
       "      <td>NaN</td>\n",
       "      <td>NaN</td>\n",
       "      <td>NaN</td>\n",
       "      <td>NaN</td>\n",
       "      <td>NaN</td>\n",
       "      <td>NaN</td>\n",
       "      <td>NaN</td>\n",
       "      <td>NaN</td>\n",
       "    </tr>\n",
       "    <tr>\n",
       "      <th>75%</th>\n",
       "      <td>407.000000</td>\n",
       "      <td>NaN</td>\n",
       "      <td>26.000000</td>\n",
       "      <td>2.000000</td>\n",
       "      <td>15.000000</td>\n",
       "      <td>20.000000</td>\n",
       "      <td>13.000000</td>\n",
       "      <td>NaN</td>\n",
       "      <td>13.000000</td>\n",
       "      <td>13.000000</td>\n",
       "      <td>...</td>\n",
       "      <td>NaN</td>\n",
       "      <td>NaN</td>\n",
       "      <td>NaN</td>\n",
       "      <td>NaN</td>\n",
       "      <td>NaN</td>\n",
       "      <td>NaN</td>\n",
       "      <td>NaN</td>\n",
       "      <td>NaN</td>\n",
       "      <td>NaN</td>\n",
       "      <td>NaN</td>\n",
       "    </tr>\n",
       "    <tr>\n",
       "      <th>max</th>\n",
       "      <td>552.000000</td>\n",
       "      <td>22.000000</td>\n",
       "      <td>44.000000</td>\n",
       "      <td>2.000000</td>\n",
       "      <td>21.000000</td>\n",
       "      <td>22.000000</td>\n",
       "      <td>22.000000</td>\n",
       "      <td>22.000000</td>\n",
       "      <td>22.000000</td>\n",
       "      <td>22.000000</td>\n",
       "      <td>...</td>\n",
       "      <td>12.000000</td>\n",
       "      <td>12.000000</td>\n",
       "      <td>12.000000</td>\n",
       "      <td>12.000000</td>\n",
       "      <td>12.000000</td>\n",
       "      <td>10.000000</td>\n",
       "      <td>10.000000</td>\n",
       "      <td>10.000000</td>\n",
       "      <td>10.000000</td>\n",
       "      <td>10.000000</td>\n",
       "    </tr>\n",
       "  </tbody>\n",
       "</table>\n",
       "<p>8 rows × 186 columns</p>\n",
       "</div>"
      ],
      "text/plain": [
       "               iid           id          idg       condtn         wave  \\\n",
       "count  8378.000000  8377.000000  8378.000000  8378.000000  8378.000000   \n",
       "mean    283.675937     8.960248    17.327166     1.828837    11.350919   \n",
       "std     158.583367     5.491329    10.940735     0.376673     5.995903   \n",
       "min       1.000000     1.000000     1.000000     1.000000     1.000000   \n",
       "25%     154.000000          NaN     8.000000     2.000000     7.000000   \n",
       "50%     281.000000          NaN    16.000000     2.000000    11.000000   \n",
       "75%     407.000000          NaN    26.000000     2.000000    15.000000   \n",
       "max     552.000000    22.000000    44.000000     2.000000    21.000000   \n",
       "\n",
       "             round     position     positin1        order      partner  \\\n",
       "count  8378.000000  8378.000000  6532.000000  8378.000000  8378.000000   \n",
       "mean     16.872046     9.042731     9.295775     8.927668     8.963595   \n",
       "std       4.358458     5.514939     5.650199     5.477009     5.491068   \n",
       "min       5.000000     1.000000     1.000000     1.000000     1.000000   \n",
       "25%      14.000000     4.000000          NaN     4.000000     4.000000   \n",
       "50%      18.000000     8.000000          NaN     8.000000     8.000000   \n",
       "75%      20.000000    13.000000          NaN    13.000000    13.000000   \n",
       "max      22.000000    22.000000    22.000000    22.000000    22.000000   \n",
       "\n",
       "          ...           attr3_3      sinc3_3     intel3_3       fun3_3  \\\n",
       "count     ...       3974.000000  3974.000000  3974.000000  3974.000000   \n",
       "mean      ...          7.240312     8.093357     8.388777     7.658782   \n",
       "std       ...          1.576596     1.610309     1.459094     1.744670   \n",
       "min       ...          2.000000     2.000000     3.000000     2.000000   \n",
       "25%       ...               NaN          NaN          NaN          NaN   \n",
       "50%       ...               NaN          NaN          NaN          NaN   \n",
       "75%       ...               NaN          NaN          NaN          NaN   \n",
       "max       ...         12.000000    12.000000    12.000000    12.000000   \n",
       "\n",
       "            amb3_3      attr5_3      sinc5_3     intel5_3       fun5_3  \\\n",
       "count  3974.000000  2016.000000  2016.000000  2016.000000  2016.000000   \n",
       "mean      7.391545     6.810020     7.615079     7.932540     7.155258   \n",
       "std       1.961417     1.507341     1.504551     1.340868     1.672787   \n",
       "min       1.000000     2.000000     2.000000     4.000000     1.000000   \n",
       "25%            NaN          NaN          NaN          NaN          NaN   \n",
       "50%            NaN          NaN          NaN          NaN          NaN   \n",
       "75%            NaN          NaN          NaN          NaN          NaN   \n",
       "max      12.000000    10.000000    10.000000    10.000000    10.000000   \n",
       "\n",
       "            amb5_3  \n",
       "count  2016.000000  \n",
       "mean      7.048611  \n",
       "std       1.717988  \n",
       "min       1.000000  \n",
       "25%            NaN  \n",
       "50%            NaN  \n",
       "75%            NaN  \n",
       "max      10.000000  \n",
       "\n",
       "[8 rows x 186 columns]"
      ]
     },
     "execution_count": 16,
     "metadata": {},
     "output_type": "execute_result"
    }
   ],
   "source": [
    "speedDatingDF.describe()"
   ]
  },
  {
   "cell_type": "code",
   "execution_count": 53,
   "metadata": {
    "collapsed": false
   },
   "outputs": [
    {
     "data": {
      "text/plain": [
       "0                                                  lawyer\n",
       "1                                                  lawyer\n",
       "2                                                  lawyer\n",
       "3                                                  lawyer\n",
       "4                                                  lawyer\n",
       "5                                                  lawyer\n",
       "6                                                  lawyer\n",
       "7                                                  lawyer\n",
       "8                                                  lawyer\n",
       "9                                                  lawyer\n",
       "10                                                    law\n",
       "11                                                    law\n",
       "12                                                    law\n",
       "13                                                    law\n",
       "14                                                    law\n",
       "15                                                    law\n",
       "16                                                    law\n",
       "17                                                    law\n",
       "18                                                    law\n",
       "19                                                    law\n",
       "20                                              Economist\n",
       "21                                              Economist\n",
       "22                                              Economist\n",
       "23                                              Economist\n",
       "24                                              Economist\n",
       "25                                              Economist\n",
       "26                                              Economist\n",
       "27                                              Economist\n",
       "28                                              Economist\n",
       "29                                              Economist\n",
       "                              ...                        \n",
       "8348                                              Banking\n",
       "8349                                              Banking\n",
       "8350                                              Banking\n",
       "8351                                              Banking\n",
       "8352                                              Banking\n",
       "8353                                              Banking\n",
       "8354                                              Banking\n",
       "8355                                              Banking\n",
       "8356    assistant master of the universe (otherwise it...\n",
       "8357    assistant master of the universe (otherwise it...\n",
       "8358    assistant master of the universe (otherwise it...\n",
       "8359    assistant master of the universe (otherwise it...\n",
       "8360    assistant master of the universe (otherwise it...\n",
       "8361    assistant master of the universe (otherwise it...\n",
       "8362    assistant master of the universe (otherwise it...\n",
       "8363    assistant master of the universe (otherwise it...\n",
       "8364    assistant master of the universe (otherwise it...\n",
       "8365    assistant master of the universe (otherwise it...\n",
       "8366    assistant master of the universe (otherwise it...\n",
       "8367    assistant master of the universe (otherwise it...\n",
       "8368    assistant master of the universe (otherwise it...\n",
       "8369    assistant master of the universe (otherwise it...\n",
       "8370    assistant master of the universe (otherwise it...\n",
       "8371    assistant master of the universe (otherwise it...\n",
       "8372    assistant master of the universe (otherwise it...\n",
       "8373    assistant master of the universe (otherwise it...\n",
       "8374    assistant master of the universe (otherwise it...\n",
       "8375    assistant master of the universe (otherwise it...\n",
       "8376    assistant master of the universe (otherwise it...\n",
       "8377    assistant master of the universe (otherwise it...\n",
       "Name: career, dtype: object"
      ]
     },
     "execution_count": 53,
     "metadata": {},
     "output_type": "execute_result"
    }
   ],
   "source": [
    "speedDatingDF"
   ]
  },
  {
   "cell_type": "code",
   "execution_count": null,
   "metadata": {
    "collapsed": true
   },
   "outputs": [],
   "source": []
  }
 ],
 "metadata": {
  "anaconda-cloud": {},
  "kernelspec": {
   "display_name": "Python [conda root]",
   "language": "python",
   "name": "conda-root-py"
  },
  "language_info": {
   "codemirror_mode": {
    "name": "ipython",
    "version": 3
   },
   "file_extension": ".py",
   "mimetype": "text/x-python",
   "name": "python",
   "nbconvert_exporter": "python",
   "pygments_lexer": "ipython3",
   "version": "3.5.2"
  }
 },
 "nbformat": 4,
 "nbformat_minor": 1
}
